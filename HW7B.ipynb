{
 "cells": [
  {
   "cell_type": "markdown",
   "metadata": {},
   "source": [
    "# Homework 7b: Classes and Structured Data Files"
   ]
  },
  {
   "cell_type": "markdown",
   "metadata": {},
   "source": [
    "### Problem 1\n",
    "\n",
    "#### Part a\n",
    "\n",
    "* The homework includes a file ```units.py```. The file should be copied into the same folder as your HW7b.ipynb file that you are working on (this file).\n",
    "* Show the contents of that file in your notebook by typing ```%load units.py``` in a cell and running it."
   ]
  },
  {
   "cell_type": "code",
   "execution_count": 94,
   "metadata": {},
   "outputs": [],
   "source": [
    "# %load units.py\n",
    "\"\"\"\n",
    "Simple unit conversion module.\n",
    "Some basic conversions for length and temperature.\n",
    "\"\"\"\n",
    "\n",
    "ft_to_m = 0.3048\n",
    "m_to_ft = 3.28084\n",
    "\n",
    "ft_to_in = 12.0\n",
    "in_to_ft = 1.0/12.0\n",
    "mi_to_ft = 5280.0\n",
    "ft_to_mi = 1.0/5280.0\n",
    "in_to_mi = 1.0/12.0/5280.0\n",
    "mi_to_in = 5280.0*12.0\n",
    "\n",
    "m_to_km  = 0.001\n",
    "m_to_dm  = 10.0\n",
    "m_to_cm  = 100.0\n",
    "m_to_mm  = 1000.0\n",
    "m_to_um  = 1.0E6  # m to micrometers\n",
    "\n",
    "def K_to_C(T_K) :\n",
    "    return T_K - 273.2\n",
    "\n",
    "def C_to_K(T_C) :\n",
    "    return T_C + 273.2\n",
    "\n",
    "def F_to_C(T_F) :\n",
    "    return (T_F - 32.0)/1.8\n",
    "\n",
    "def C_to_F(T_C) :\n",
    "    return T_C*1.8 + 32.0"
   ]
  },
  {
   "cell_type": "markdown",
   "metadata": {},
   "source": [
    "#### Part b\n",
    "\n",
    "* Extend the ```units.py``` module in a new ```ext_units.py``` file with the leading line ```from units import *```\n",
    "* Add functions to convert from F to R and R to F.\n",
    "* Correct the conversions from C to K and from K to C by overriding those functions.\n",
    "* Test the conversion functions by computing the freezing point of water at $T_{f} = 0^o \\; C$ in F, K, and R."
   ]
  },
  {
   "cell_type": "code",
   "execution_count": 95,
   "metadata": {},
   "outputs": [
    {
     "name": "stdout",
     "output_type": "stream",
     "text": [
      "32.0 F\n",
      "273.15 K\n",
      "491.67 R\n"
     ]
    }
   ],
   "source": [
    "import ext_units as uts\n",
    "\n",
    "TC = 0\n",
    "TF = uts.C_to_F(TC)\n",
    "TK = uts.C_to_K(TC)\n",
    "TR = uts.F_to_R(TF)\n",
    "\n",
    "print(TF, 'F')\n",
    "print(TK, 'K')\n",
    "print(TR, 'R')"
   ]
  },
  {
   "cell_type": "code",
   "execution_count": null,
   "metadata": {},
   "outputs": [],
   "source": []
  },
  {
   "cell_type": "code",
   "execution_count": null,
   "metadata": {},
   "outputs": [],
   "source": []
  },
  {
   "cell_type": "markdown",
   "metadata": {},
   "source": [
    "#### Part c\n",
    "\n",
    "* Import the ```ext_units.py``` module and use it in the function you write below.\n",
    "* Define a function that returns the ideal gas pressure given temperature with n=1 mole and V=1 m^3. \n",
    "    * The function should look like this: ```def P_ig(T, Tu) : ```, \n",
    "    * where, T is the Temperature and Tu is the units of Temperature.\n",
    "* Hint: Convert all input units to K, then compute pressure (in Pa).\n",
    "* Test the function by computing the pressures at temperatures of $0^o \\; C$, $32^o \\; F$, and $491.67 \\; R$.  "
   ]
  },
  {
   "cell_type": "code",
   "execution_count": 96,
   "metadata": {},
   "outputs": [
    {
     "name": "stdout",
     "output_type": "stream",
     "text": [
      "2270.9691\n",
      "2270.9691\n",
      "2270.9691\n"
     ]
    }
   ],
   "source": [
    "def P_ig(T,Tu):\n",
    "    Tu = Tu.upper()\n",
    "    if Tu=='C':\n",
    "        T = uts.C_to_K(T)\n",
    "    elif Tu=='R':\n",
    "        T = uts.R_to_F(T)\n",
    "        T = uts.F_to_C(T)\n",
    "        T = uts.C_to_K(T)\n",
    "    elif Tu=='F':\n",
    "        T = uts.F_to_C(T)\n",
    "        T = uts.C_to_K(T)\n",
    "    elif Tu=='K':\n",
    "        T = T\n",
    "    else:\n",
    "        print('invalid temperature units')\n",
    "        return 0\n",
    "    \n",
    "    n = 1\n",
    "    V = 1\n",
    "    R = 8.314\n",
    "    P = n * R * T  / V\n",
    "    return P\n",
    "\n",
    "print(P_ig(0,'C'))\n",
    "print(P_ig(32, 'F'))\n",
    "print(P_ig(491.67, 'R'))"
   ]
  },
  {
   "cell_type": "code",
   "execution_count": null,
   "metadata": {},
   "outputs": [],
   "source": []
  },
  {
   "cell_type": "code",
   "execution_count": null,
   "metadata": {},
   "outputs": [],
   "source": []
  },
  {
   "cell_type": "markdown",
   "metadata": {},
   "source": [
    "### Problem 2\n",
    "\n",
    "Retrieve ```thermo.yaml``` with the following command."
   ]
  },
  {
   "cell_type": "code",
   "execution_count": 97,
   "metadata": {
    "scrolled": true
   },
   "outputs": [
    {
     "name": "stdout",
     "output_type": "stream",
     "text": [
      "\n",
      "Retrieved thermoData.yaml\n"
     ]
    }
   ],
   "source": [
    "# import or install wget\n",
    "try:\n",
    "    import wget\n",
    "except:\n",
    "    try:\n",
    "        from pip import main as pipmain\n",
    "    except:\n",
    "        from pip._internal import main as pipmain\n",
    "    pipmain(['install','wget'])\n",
    "    import wget\n",
    "\n",
    "url = 'https://apmonitor.com/che263/uploads/Main/thermoData.yaml'\n",
    "filename = wget.download(url)\n",
    "print('')\n",
    "print('Retrieved thermoData.yaml')"
   ]
  },
  {
   "cell_type": "markdown",
   "metadata": {},
   "source": [
    "#### Part a\n",
    "* Write a class for computing thermodynamic properties in a cell below.\n",
    "* Call the class \"thermo\"\n",
    "* Include an ```__init__(self, species)``` function that sets the gas constant Rgas = 8314.46 J/kmol*K.\n",
    "    * Use kmol instead of gmol because kg is the SI unit of mass, not gm.\n",
    "    * The __init__ function should open the file thermoData.yaml included with the homework. Use this code to open the file:   \n",
    "    \n",
    "    \n",
    "    import yaml\n",
    "    with open(\"thermoData.yaml\") as yfile :          \n",
    "       yfile = yaml.load(yfile, Loader=yaml.FullLoader)\n",
    "\n",
    "\n",
    "* Also in ```__init__``` Make two arrays that are members of the class called a_lo, and a_hi.\n",
    "* Get these arrays from the yaml file using something like ```a_lo = yfile[species][\"a_lo\"]```, where \"species\" is the string passed as an argument to __init__. When you create an instance of the class, you should give a string argument that is one of the species in the HW13P2.yaml file.\n",
    "* The two arrays work in two separate temperature ranges: a_lo is for $300<T<1000$ K and a_hi is for $1000<T<3000$ K.\n"
   ]
  },
  {
   "cell_type": "code",
   "execution_count": 98,
   "metadata": {},
   "outputs": [],
   "source": [
    "import yaml\n",
    "with open(\"thermoData.yaml\") as yfile :          \n",
    "   yfile = yaml.load(yfile, Loader=yaml.FullLoader)"
   ]
  },
  {
   "cell_type": "code",
   "execution_count": null,
   "metadata": {},
   "outputs": [],
   "source": []
  },
  {
   "cell_type": "code",
   "execution_count": null,
   "metadata": {},
   "outputs": [],
   "source": []
  },
  {
   "cell_type": "markdown",
   "metadata": {},
   "source": [
    "#### Part b\n",
    "* Write thermo class functions: get_cp that computes the heat capacity in J/kmol*K. The functions should take temperature in Kelvin as an argument.\n",
    "* Make sure you use the right set of coefficients for the right temperature range.\n",
    "* The equation is given by: \n",
    "$$ \\frac{c_p}{R_g} = a_0 + a_1T+a_2T^2 + a_3T^3+a_4T^4 $$\n"
   ]
  },
  {
   "cell_type": "code",
   "execution_count": 99,
   "metadata": {},
   "outputs": [],
   "source": [
    "class thermo:\n",
    "    def __init__(self, species):\n",
    "        import yaml\n",
    "        with open('thermoData.yaml') as yfile:\n",
    "            yfile = yaml.load(yfile)\n",
    "        self.a_lo = yfile[species]['a_lo']\n",
    "        self.a_hi = yfile[species]['a_hi']\n",
    "        self.Rg = 8314.46\n",
    "            \n",
    "    def get_cp(self,T):\n",
    "        \n",
    "        if T<1000:\n",
    "            a = self.a_lo\n",
    "        else:\n",
    "            a = self.a_hi\n",
    "        Rg = self.Rg\n",
    "            \n",
    "        cp = Rg * (a[0] + a[1] * T + a[2] * T**2 + a[3]*T**3 + a[4]*T**4)\n",
    "        return cp"
   ]
  },
  {
   "cell_type": "code",
   "execution_count": null,
   "metadata": {},
   "outputs": [],
   "source": []
  },
  {
   "cell_type": "markdown",
   "metadata": {},
   "source": [
    "#### Part c\n",
    "* Instantiate the class for species CH4. Call the object ```t_CH4```\n",
    "    * Like this: ```t_CH4 = thermo(\"CH4\")```\n",
    "* Make a plot for cp versus temperature. Let temperature vary from 300 K to 3000 K. Use at least 100 points.\n",
    "\n",
    "* Hints:\n",
    "    * Make an array of temperatures and heat capacities (cp)\n",
    "    * Write a loop over the number of points: ```for iT in range(npts) :```\n",
    "    * In the loop call the functions with something like: ```cp[iT] = t_CH4.get_cp(T[iT])```\n"
   ]
  },
  {
   "cell_type": "code",
   "execution_count": 100,
   "metadata": {},
   "outputs": [
    {
     "name": "stderr",
     "output_type": "stream",
     "text": [
      "C:\\Users\\jerem\\Anaconda3\\lib\\site-packages\\ipykernel_launcher.py:5: YAMLLoadWarning: calling yaml.load() without Loader=... is deprecated, as the default Loader is unsafe. Please read https://msg.pyyaml.org/load for full details.\n",
      "  \"\"\"\n"
     ]
    }
   ],
   "source": [
    "import numpy as np\n",
    "\n",
    "T = np.linspace(300,3000,200)\n",
    "cp1 = np.ones(len(T))\n",
    "cp2 = np.ones(len(T))\n",
    "\n",
    "t_CH4 = thermo(\"CH4\")\n",
    "t_O2 = thermo(\"O2\")\n",
    "\n",
    "for iT in range(len(T)):\n",
    "    cp1[iT] =  t_CH4.get_cp(T[iT])\n",
    "    cp2[iT] = t_O2.get_cp(T[iT])\n",
    "\n",
    "\n"
   ]
  },
  {
   "cell_type": "code",
   "execution_count": 101,
   "metadata": {
    "scrolled": true
   },
   "outputs": [
    {
     "data": {
      "text/plain": [
       "Text(0.5, 1.0, 'Heat Capacity')"
      ]
     },
     "execution_count": 101,
     "metadata": {},
     "output_type": "execute_result"
    },
    {
     "data": {
      "image/png": "[encoded data removed]",
      "text/plain": [
       "<Figure size 432x288 with 1 Axes>"
      ]
     },
     "metadata": {
      "needs_background": "light"
     },
     "output_type": "display_data"
    }
   ],
   "source": [
    "%matplotlib inline\n",
    "import matplotlib.pyplot as plt\n",
    "plt.plot(T,cp1,'r-')\n",
    "plt.plot(T,cp2,'b.-')\n",
    "\n",
    "plt.legend(['CH3','O2'])\n",
    "plt.xlabel('T (K)')\n",
    "plt.ylabel('Cp (J/kmol-K)')\n",
    "plt.title('Heat Capacity')"
   ]
  },
  {
   "cell_type": "code",
   "execution_count": null,
   "metadata": {},
   "outputs": [],
   "source": []
  },
  {
   "cell_type": "code",
   "execution_count": null,
   "metadata": {},
   "outputs": [],
   "source": []
  },
  {
   "cell_type": "code",
   "execution_count": null,
   "metadata": {},
   "outputs": [],
   "source": []
  }
 ],
 "metadata": {
  "kernelspec": {
   "display_name": "Python 3",
   "language": "python",
   "name": "python3"
  },
  "language_info": {
   "codemirror_mode": {
    "name": "ipython",
    "version": 3
   },
   "file_extension": ".py",
   "mimetype": "text/x-python",
   "name": "python",
   "nbconvert_exporter": "python",
   "pygments_lexer": "ipython3",
   "version": "3.7.4"
  }
 },
 "nbformat": 4,
 "nbformat_minor": 1
}